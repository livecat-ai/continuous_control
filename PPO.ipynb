{
 "cells": [
  {
   "cell_type": "markdown",
   "metadata": {},
   "source": [
    "# Continuous Control\n",
    "\n",
    "---\n",
    "\n",
    "You are welcome to use this coding environment to train your agent for the project.  Follow the instructions below to get started!\n",
    "\n",
    "### 1. Start the Environment\n",
    "\n",
    "Run the next code cell to install a few packages.  This line will take a few minutes to run!"
   ]
  },
  {
   "cell_type": "code",
   "execution_count": 1,
   "metadata": {
    "scrolled": true
   },
   "outputs": [
    {
     "name": "stdout",
     "output_type": "stream",
     "text": [
      "\u001b[31mtensorflow 1.7.1 has requirement numpy>=1.13.3, but you'll have numpy 1.12.1 which is incompatible.\u001b[0m\r\n",
      "\u001b[31mipython 6.5.0 has requirement prompt-toolkit<2.0.0,>=1.0.15, but you'll have prompt-toolkit 3.0.36 which is incompatible.\u001b[0m\r\n",
      "\u001b[31mjupyter-console 6.4.3 has requirement jupyter-client>=7.0.0, but you'll have jupyter-client 5.2.4 which is incompatible.\u001b[0m\r\n"
     ]
    }
   ],
   "source": [
    "!pip -q install ./python"
   ]
  },
  {
   "cell_type": "markdown",
   "metadata": {},
   "source": [
    "The environments corresponding to both versions of the environment are already saved in the Workspace and can be accessed at the file paths provided below.  \n",
    "\n",
    "Please select one of the two options below for loading the environment."
   ]
  },
  {
   "cell_type": "code",
   "execution_count": 2,
   "metadata": {
    "scrolled": true
   },
   "outputs": [],
   "source": [
    "from unityagents import UnityEnvironment\n",
    "import numpy as np\n",
    "import matplotlib.pyplot as plt\n",
    "from workspace_utils import keep_awake\n",
    "import jdc\n",
    "%matplotlib inline"
   ]
  },
  {
   "cell_type": "code",
   "execution_count": 3,
   "metadata": {
    "scrolled": true
   },
   "outputs": [
    {
     "name": "stderr",
     "output_type": "stream",
     "text": [
      "INFO:unityagents:\n",
      "'Academy' started successfully!\n",
      "Unity Academy name: Academy\n",
      "        Number of Brains: 1\n",
      "        Number of External Brains : 1\n",
      "        Lesson number : 0\n",
      "        Reset Parameters :\n",
      "\t\tgoal_speed -> 1.0\n",
      "\t\tgoal_size -> 5.0\n",
      "Unity brain name: ReacherBrain\n",
      "        Number of Visual Observations (per agent): 0\n",
      "        Vector Observation space type: continuous\n",
      "        Vector Observation space size (per agent): 33\n",
      "        Number of stacked Vector Observation: 1\n",
      "        Vector Action space type: continuous\n",
      "        Vector Action space size (per agent): 4\n",
      "        Vector Action descriptions: , , , \n"
     ]
    }
   ],
   "source": [
    "\n",
    "# select this option to load version 1 (with a single agent) of the environment\n",
    "# env = UnityEnvironment(file_name='/data/Reacher_One_Linux_NoVis/Reacher_One_Linux_NoVis.x86_64')\n",
    "\n",
    "# select this option to load version 2 (with 20 agents) of the environment\n",
    "env = UnityEnvironment(file_name='/data/Reacher_Linux_NoVis/Reacher.x86_64')"
   ]
  },
  {
   "cell_type": "markdown",
   "metadata": {},
   "source": [
    "Environments contain **_brains_** which are responsible for deciding the actions of their associated agents. Here we check for the first brain available, and set it as the default brain we will be controlling from Python."
   ]
  },
  {
   "attachments": {},
   "cell_type": "markdown",
   "metadata": {},
   "source": [
    "### Install pytorch"
   ]
  },
  {
   "cell_type": "code",
   "execution_count": 4,
   "metadata": {
    "scrolled": true
   },
   "outputs": [],
   "source": [
    "import torch\n",
    "import torch.optim as optim\n",
    "import torch.nn as nn\n",
    "import torch.nn.functional as F\n",
    "from torch.distributions import MultivariateNormal"
   ]
  },
  {
   "attachments": {},
   "cell_type": "markdown",
   "metadata": {},
   "source": [
    "### Define the mlp network.\n",
    "We will use this for both the actor and critic networks."
   ]
  },
  {
   "cell_type": "code",
   "execution_count": 5,
   "metadata": {
    "scrolled": true
   },
   "outputs": [],
   "source": [
    "class FeedForwardNN(nn.Module):\n",
    "    \"\"\"\n",
    "    A standard in_dim-64-64-out_dim Feed Forward Neural Network.\n",
    "    \"\"\"\n",
    "    def __init__(self, in_dim, hidden_dim, out_dim, seed=42):\n",
    "        \"\"\"\n",
    "        Initialize the network and set up the layers.\n",
    "\n",
    "            Parameters:\n",
    "                in_dim - input dimensions as an int\n",
    "                out_dim - output dimensions as an int\n",
    "\n",
    "            Return:\n",
    "                None\n",
    "        \"\"\"\n",
    "        super(FeedForwardNN, self).__init__()\n",
    "        self.seed = torch.manual_seed(seed)\n",
    "        self.layer1 = nn.Linear(in_dim, hidden_dim)\n",
    "        self.layer2 = nn.Linear(hidden_dim, hidden_dim)\n",
    "        self.layer3 = nn.Linear(hidden_dim, out_dim)\n",
    "\n",
    "    def forward(self, obs):\n",
    "        \"\"\"\n",
    "            Runs a forward pass on the neural network.\n",
    "\n",
    "            Parameters:\n",
    "                obs - observation to pass as input\n",
    "\n",
    "            Return:\n",
    "                output - the output of our forward pass\n",
    "        \"\"\"\n",
    "        # Convert observation to tensor if it's a numpy array\n",
    "        if isinstance(obs, np.ndarray):\n",
    "            obs = torch.tensor(obs, dtype=torch.float32)\n",
    "        x = F.relu(self.layer1(obs))\n",
    "        x = F.relu(self.layer2(x))\n",
    "        output = self.layer3(x)\n",
    "        return output"
   ]
  },
  {
   "attachments": {},
   "cell_type": "markdown",
   "metadata": {},
   "source": [
    "### Check which device we are using."
   ]
  },
  {
   "cell_type": "code",
   "execution_count": 6,
   "metadata": {
    "scrolled": true
   },
   "outputs": [
    {
     "name": "stdout",
     "output_type": "stream",
     "text": [
      "Using:  cuda:0\n"
     ]
    }
   ],
   "source": [
    "device = torch.device(\"cuda:0\" if torch.cuda.is_available() else \"cpu\")\n",
    "print(\"Using: \", device)"
   ]
  },
  {
   "attachments": {},
   "cell_type": "markdown",
   "metadata": {},
   "source": [
    "### Implement our PPO agent class.\n",
    "Here we setup the environment, our actor and critic models plus other required variables.\n",
    "We are using the jdc module to make it easer to work with classes in jupyter notebooks"
   ]
  },
  {
   "cell_type": "code",
   "execution_count": 7,
   "metadata": {
    "scrolled": true
   },
   "outputs": [],
   "source": [
    "class PPO:\n",
    "    def __init__(self, env, hidden_dim, \n",
    "                 lr = 1e-3, \n",
    "                 clip_epsilon=0.1, \n",
    "                 discount=0.95, \n",
    "                 n_updates = 5\n",
    "                 ):\n",
    "\n",
    "        self.hidden_dim = hidden_dim\n",
    "        self.n_updates = n_updates\n",
    "        self.lr = lr\n",
    "        self.discount = discount\n",
    "        self.clip_epsilon = clip_epsilon\n",
    "        # Environment variables\n",
    "        self.env = env\n",
    "        self.brain_name = env.brain_names[0]\n",
    "        self.brain = env.brains[self.brain_name]\n",
    "        self.action_size = self.brain.vector_action_space_size\n",
    "        self.state_size = self.brain.vector_observation_space_size\n",
    "\n",
    "        self.actor = FeedForwardNN(self.state_size, self.hidden_dim, self.action_size).to(device)                                                   # ALG STEP 1\n",
    "        self.critic = FeedForwardNN(self.state_size, self.hidden_dim, 1).to(device)\n",
    "\n",
    "        # Initialize optimizers for actor and critic\n",
    "        self.actor_optim = optim.Adam(self.actor.parameters(), lr=self.lr)\n",
    "        self.critic_optim = optim.Adam(self.critic.parameters(), lr=self.lr)\n",
    "\n",
    "        # Initialize the covariance matrix used to query the actor for actions\n",
    "        self.cov_var = torch.full(size=(self.action_size,), fill_value=0.5)\n",
    "        self.cov_mat = torch.diag(self.cov_var)"
   ]
  },
  {
   "attachments": {},
   "cell_type": "markdown",
   "metadata": {},
   "source": [
    "### get_actions\n",
    "This method takes a batch of states from the environment and returns an action and the log_probs of the action.\n",
    "We do this using torch.MultivariateNormal to sample an action rather than taking the action directly from the output of the actor."
   ]
  },
  {
   "cell_type": "code",
   "execution_count": 8,
   "metadata": {
    "scrolled": true
   },
   "outputs": [],
   "source": [
    "%%add_to PPO\n",
    "\n",
    "def get_actions(self, states):\n",
    "    \"\"\"\n",
    "        Queries an action from the actor network, should be called from rollout.\n",
    "\n",
    "        Parameters:\n",
    "            obs - the observation at the current timestep\n",
    "\n",
    "        Return:\n",
    "            action - the action to take, as a numpy array\n",
    "            log_prob - the log probability of the selected action in the distribution\n",
    "    \"\"\"\n",
    "    # Query the actor network for a mean action\n",
    "    mean = self.actor(states).to(torch.device('cpu'))\n",
    "\n",
    "    dist = MultivariateNormal(mean, self.cov_mat)\n",
    "\n",
    "    # Sample an action from the distribution\n",
    "    action = dist.sample()\n",
    "\n",
    "\n",
    "    # Calculate the log probability for that action\n",
    "    log_prob = dist.log_prob(action)\n",
    "\n",
    "    return action, log_prob.detach()"
   ]
  },
  {
   "attachments": {},
   "cell_type": "markdown",
   "metadata": {},
   "source": [
    "### compute_actor_log_probs\n",
    "Given a batch of states and actions it returns the log_probs of the input actions given the current current action model weights."
   ]
  },
  {
   "cell_type": "code",
   "execution_count": 9,
   "metadata": {
    "scrolled": true
   },
   "outputs": [],
   "source": [
    "%%add_to PPO\n",
    "\n",
    "def compute_actor_log_probs(self, batch_obs, batch_acts):\n",
    "    \"\"\"\n",
    "        Estimate the log probs of\n",
    "        each action in the most recent batch with the most recent\n",
    "        iteration of the actor network. Should be called from learn.\n",
    "\n",
    "        Parameters:\n",
    "            batch_obs - the observations from the most recently collected batch as a tensor.\n",
    "                        Shape: (number of timesteps in batch, dimension of observation)\n",
    "            batch_acts - the actions from the most recently collected batch as a tensor.\n",
    "                        Shape: (number of timesteps in batch, dimension of action)\n",
    "\n",
    "        Return:\n",
    "            log_probs - the log probabilities of the actions taken in batch_acts given batch_obs\n",
    "    \"\"\"\n",
    "    # Calculate the log probabilities of batch actions using most recent actor network.\n",
    "    # This segment of code is similar to that in get_action()\n",
    "    mean = self.actor(batch_obs).to(torch.device('cpu'))\n",
    "    dist = MultivariateNormal(mean, self.cov_mat)\n",
    "    log_probs = dist.log_prob(batch_acts)\n",
    "\n",
    "    # Return the value vector V of each observation in the batch\n",
    "    # and log probabilities log_probs of each action in the batch\n",
    "    return log_probs"
   ]
  },
  {
   "attachments": {},
   "cell_type": "markdown",
   "metadata": {},
   "source": [
    "### Methods to compute the normalized forward returns"
   ]
  },
  {
   "cell_type": "code",
   "execution_count": 10,
   "metadata": {
    "scrolled": true
   },
   "outputs": [],
   "source": [
    "%%add_to PPO\n",
    "\n",
    "def compute_future_rewards(self, rewards):\n",
    "        discounts = self.discount**np.arange(len(rewards))\n",
    "        discounted_rewards = np.asarray(rewards) * discounts[:,np.newaxis]\n",
    "        future_rewards = discounted_rewards[::-1].cumsum(axis=0)[::-1]\n",
    "        return future_rewards\n",
    "\n",
    "def compute_normalize_future_rewards(self, rewards):\n",
    "    future_rewards = self.compute_future_rewards(rewards)\n",
    "    mean = np.mean(future_rewards, axis=1)\n",
    "    std = np.std(future_rewards, axis=1) + 1.0e-10\n",
    "    normalized_rewards = (future_rewards - mean[:, np.newaxis]) / std[:, np.newaxis]\n",
    "    return torch.tensor(normalized_rewards, dtype=torch.float32).to(device)"
   ]
  },
  {
   "attachments": {},
   "cell_type": "markdown",
   "metadata": {},
   "source": [
    "### Rolls out full epsiodes for all the agents.\n",
    "In this case 20 agents."
   ]
  },
  {
   "cell_type": "code",
   "execution_count": 11,
   "metadata": {
    "scrolled": true
   },
   "outputs": [],
   "source": [
    "%%add_to PPO\n",
    "\n",
    "def rollout(self, steps):\n",
    "    env_info = self.env.reset(train_mode=True)[self.brain_name]\n",
    "    num_agents = len(env_info.agents)\n",
    "    state = env_info.vector_observations \n",
    "    \n",
    "    state_list = []\n",
    "    action_list = []\n",
    "    reward_list = []\n",
    "    log_prob_list = []\n",
    "    done_list = []\n",
    "    \n",
    "    for i in range(steps):\n",
    "        state_tensor = torch.tensor(state, dtype = torch.float32).to(device)\n",
    "        action_tensor, prob_tensor = self.get_actions(state_tensor) \n",
    "        actions = np.clip(action_tensor.detach().numpy(), -1, 1)\n",
    "        \n",
    "        env_info = self.env.step(actions)[self.brain_name] \n",
    "        next_state = env_info.vector_observations         # get next state (for each agent)\n",
    "        reward = env_info.rewards                         # get reward (for each agent)\n",
    "        done = env_info.local_done\n",
    "        \n",
    "        state_list.append(state_tensor)\n",
    "        action_list.append(action_tensor)\n",
    "        log_prob_list.append(prob_tensor)\n",
    "        reward_list.append(reward)\n",
    "        done_list.append(done)\n",
    "        \n",
    "        state = next_state\n",
    "        \n",
    "        if np.any(done):\n",
    "            break\n",
    "        \n",
    "    states_tensor = torch.stack(state_list).to(device)\n",
    "    actions_tensor = torch.stack(action_list)\n",
    "    log_probs_tensor = torch.stack(log_prob_list)\n",
    "    rewards_tensor = torch.tensor(reward_list, dtype=torch.float32)\n",
    "    dones_tensor = torch.tensor(done_list, dtype=torch.float32)\n",
    "    \n",
    "    return (states_tensor, actions_tensor, log_probs_tensor, rewards_tensor, dones_tensor)  "
   ]
  },
  {
   "attachments": {},
   "cell_type": "markdown",
   "metadata": {},
   "source": [
    "### Method to compute the advantage"
   ]
  },
  {
   "cell_type": "code",
   "execution_count": 12,
   "metadata": {
    "scrolled": true
   },
   "outputs": [],
   "source": [
    "%%add_to PPO\n",
    "\n",
    "def compute_advantage(self, states, forward_normalised_returns):\n",
    "    \"\"\"\n",
    "        Estimate the values of each observation of\n",
    "        each action in the most recent batch with the most recent\n",
    "        iteration of the actor network. Should be called from learn.\n",
    "    \"\"\"\n",
    "    V = self.critic(states).squeeze()\n",
    "    adv = forward_normalised_returns - V.detach()                                                                      # ALG STEP 5\n",
    "    adv = (adv - adv.mean()) / (adv.std() + 1e-10)\n",
    "    return adv.to(device)"
   ]
  },
  {
   "attachments": {},
   "cell_type": "markdown",
   "metadata": {},
   "source": [
    "### This method runs the learning algorithm"
   ]
  },
  {
   "cell_type": "code",
   "execution_count": 13,
   "metadata": {
    "scrolled": true
   },
   "outputs": [],
   "source": [
    "%%add_to PPO\n",
    "def learn(self, num_episodes, num_agents=20, print_every=10, max_episode_steps=1000):\n",
    "    # Create a batch of environments\n",
    "    losses = []\n",
    "    rewards = []\n",
    "    scores = np.zeros(num_agents)\n",
    "    for episode in keep_awake(range(1, num_episodes + 1)):\n",
    "        # Step all the environments\n",
    "        states_tensor, actions_tensor, log_probs_tensor, rewards_tensor, dones_tensor = self.rollout(max_episode_steps)\n",
    "    \n",
    "        rewards_normalize_future = self.compute_normalize_future_rewards(rewards_tensor)\n",
    "        \n",
    "        # Calculate advantage at k-th iteration\n",
    "        A_k = self.compute_advantage(states_tensor, rewards_normalize_future)\n",
    "        \n",
    "        for _ in range(self.n_updates): \n",
    "\n",
    "            V = self.critic(states_tensor).squeeze()\n",
    "          \n",
    "            curr_log_probs = self.compute_actor_log_probs(states_tensor, actions_tensor)\n",
    "            \n",
    "            ratios = torch.exp(curr_log_probs - log_probs_tensor).to(device)\n",
    "            \n",
    "            surr1 = ratios * A_k\n",
    "\n",
    "            surr2 = torch.clamp(ratios, 1 - self.clip_epsilon, 1 + self.clip_epsilon) * A_k\n",
    "            \n",
    "            actor_loss = (-torch.min(surr1, surr2)).mean()\n",
    "            \n",
    "            # Calculate actor and critic losses.\n",
    "            critic_loss = nn.MSELoss()(V, rewards_normalize_future)\n",
    "\n",
    "            # Calculate gradients and perform backward propagation for actor network\n",
    "            self.actor_optim.zero_grad()\n",
    "            actor_loss.backward(retain_graph=True)\n",
    "            torch.nn.utils.clip_grad_norm_(self.actor.parameters(), 1)\n",
    "            self.actor_optim.step()\n",
    "\n",
    "            # Calculate gradients and perform backward propagation for critic network\n",
    "            self.critic_optim.zero_grad()\n",
    "            critic_loss.backward()\n",
    "            torch.nn.utils.clip_grad_norm_(self.critic.parameters(), 1)\n",
    "            self.critic_optim.step()\n",
    "    \n",
    "        cum_rewards = rewards_tensor.numpy().sum(axis=0)\n",
    "        rewards.append(np.mean(cum_rewards))\n",
    "        scores += cum_rewards\n",
    "           \n",
    "        if episode % print_every == 0:\n",
    "            print('Ep {}: Total score (averaged over agents) this episode: {}'.format(episode, np.mean(scores) / print_every))\n",
    "            scores = np.zeros(num_agents)\n",
    "            torch.save(self.actor.state_dict(), './ppo_actor.pth')\n",
    "            torch.save(self.critic.state_dict(), './ppo_critic.pth')\n",
    "    return rewards"
   ]
  },
  {
   "attachments": {},
   "cell_type": "markdown",
   "metadata": {},
   "source": [
    "### Initiate our agent"
   ]
  },
  {
   "cell_type": "code",
   "execution_count": 14,
   "metadata": {},
   "outputs": [],
   "source": [
    "hidden_size = 128\n",
    "num_updates = 5\n",
    "learning_rate = 5e-3\n",
    "\n",
    "ppo_agent = PPO(env, hidden_size,\n",
    "                lr = learning_rate,\n",
    "                n_updates=num_updates)"
   ]
  },
  {
   "attachments": {},
   "cell_type": "markdown",
   "metadata": {},
   "source": [
    "### Run the agent"
   ]
  },
  {
   "cell_type": "code",
   "execution_count": 15,
   "metadata": {
    "scrolled": true
   },
   "outputs": [
    {
     "name": "stdout",
     "output_type": "stream",
     "text": [
      "Ep 10: Total score (averaged over agents) this episode: 0.7725499014183879\n",
      "Ep 20: Total score (averaged over agents) this episode: 1.1824997296743096\n",
      "Ep 30: Total score (averaged over agents) this episode: 1.7212494010478259\n",
      "Ep 40: Total score (averaged over agents) this episode: 2.187749004624784\n",
      "Ep 50: Total score (averaged over agents) this episode: 2.751298558115959\n",
      "Ep 60: Total score (averaged over agents) this episode: 3.6034979252517223\n",
      "Ep 70: Total score (averaged over agents) this episode: 4.11189755871892\n",
      "Ep 80: Total score (averaged over agents) this episode: 4.7701971811428665\n",
      "Ep 90: Total score (averaged over agents) this episode: 5.537746739014983\n",
      "Ep 100: Total score (averaged over agents) this episode: 6.150946439281106\n",
      "Ep 110: Total score (averaged over agents) this episode: 7.311345716714859\n",
      "Ep 120: Total score (averaged over agents) this episode: 8.162445883750916\n",
      "Ep 130: Total score (averaged over agents) this episode: 9.319145819991828\n",
      "Ep 140: Total score (averaged over agents) this episode: 10.542693819180132\n",
      "Ep 150: Total score (averaged over agents) this episode: 12.317048988342284\n",
      "Ep 160: Total score (averaged over agents) this episode: 14.112459369897843\n",
      "Ep 170: Total score (averaged over agents) this episode: 15.300371054410935\n",
      "Ep 180: Total score (averaged over agents) this episode: 15.538772205114364\n",
      "Ep 190: Total score (averaged over agents) this episode: 17.703144369125365\n",
      "Ep 200: Total score (averaged over agents) this episode: 19.966685448884967\n",
      "Ep 210: Total score (averaged over agents) this episode: 20.72220067501068\n",
      "Ep 220: Total score (averaged over agents) this episode: 21.445470513403414\n",
      "Ep 230: Total score (averaged over agents) this episode: 22.18463281482458\n",
      "Ep 240: Total score (averaged over agents) this episode: 23.141405133008956\n",
      "Ep 250: Total score (averaged over agents) this episode: 23.19600304365158\n",
      "Ep 260: Total score (averaged over agents) this episode: 23.7542663192749\n",
      "Ep 270: Total score (averaged over agents) this episode: 25.144846711158753\n",
      "Ep 280: Total score (averaged over agents) this episode: 25.062298844307662\n",
      "Ep 290: Total score (averaged over agents) this episode: 26.034818410873413\n",
      "Ep 300: Total score (averaged over agents) this episode: 26.150221347808838\n",
      "Ep 310: Total score (averaged over agents) this episode: 26.55472950935364\n",
      "Ep 320: Total score (averaged over agents) this episode: 26.286324467658993\n",
      "Ep 330: Total score (averaged over agents) this episode: 27.01143973350525\n",
      "Ep 340: Total score (averaged over agents) this episode: 27.37340085029602\n",
      "Ep 350: Total score (averaged over agents) this episode: 27.7369605743885\n",
      "Ep 360: Total score (averaged over agents) this episode: 27.971312267780302\n",
      "Ep 370: Total score (averaged over agents) this episode: 28.226767296791074\n",
      "Ep 380: Total score (averaged over agents) this episode: 28.110664658546447\n",
      "Ep 390: Total score (averaged over agents) this episode: 28.736678662300108\n",
      "Ep 400: Total score (averaged over agents) this episode: 29.158238620758056\n",
      "Ep 410: Total score (averaged over agents) this episode: 29.54009817838669\n",
      "Ep 420: Total score (averaged over agents) this episode: 28.93308506011963\n",
      "Ep 430: Total score (averaged over agents) this episode: 29.433794355392457\n",
      "Ep 440: Total score (averaged over agents) this episode: 29.4702965259552\n",
      "Ep 450: Total score (averaged over agents) this episode: 29.714051275253297\n",
      "Ep 460: Total score (averaged over agents) this episode: 30.805375280380247\n",
      "Ep 470: Total score (averaged over agents) this episode: 31.337037191390994\n",
      "Ep 480: Total score (averaged over agents) this episode: 31.57989447593689\n",
      "Ep 490: Total score (averaged over agents) this episode: 31.98120170593262\n",
      "Ep 500: Total score (averaged over agents) this episode: 33.228429822921754\n",
      "Ep 510: Total score (averaged over agents) this episode: 33.90229563236237\n",
      "Ep 520: Total score (averaged over agents) this episode: 34.534909720420835\n",
      "Ep 530: Total score (averaged over agents) this episode: 35.90764096736908\n",
      "Ep 540: Total score (averaged over agents) this episode: 36.69645851135254\n",
      "Ep 550: Total score (averaged over agents) this episode: 37.622830104827884\n",
      "Ep 560: Total score (averaged over agents) this episode: 38.29074514389038\n",
      "Ep 570: Total score (averaged over agents) this episode: 38.70495454788208\n",
      "Ep 580: Total score (averaged over agents) this episode: 39.051062908172604\n",
      "Ep 590: Total score (averaged over agents) this episode: 39.116014366149905\n",
      "Ep 600: Total score (averaged over agents) this episode: 39.17181571960449\n"
     ]
    }
   ],
   "source": [
    "num_episodes = 600\n",
    "max_steps = 1000\n",
    "scores = ppo_agent.learn(num_episodes, max_episode_steps=max_steps)"
   ]
  },
  {
   "attachments": {},
   "cell_type": "markdown",
   "metadata": {},
   "source": [
    "### Display a learning graph"
   ]
  },
  {
   "cell_type": "code",
   "execution_count": 16,
   "metadata": {
    "scrolled": true
   },
   "outputs": [
    {
     "data": {
      "image/png": "[encoded data removed]",
      "text/plain": [
       "<matplotlib.figure.Figure at 0x7f16cd552a58>"
      ]
     },
     "metadata": {
      "needs_background": "light"
     },
     "output_type": "display_data"
    }
   ],
   "source": [
    "fig = plt.figure()\n",
    "ax = fig.add_subplot(111)\n",
    "plt.plot(np.arange(1, len(scores)+1), scores)\n",
    "plt.ylabel('Score')\n",
    "plt.xlabel('Episode #')\n",
    "plt.show()"
   ]
  }
 ],
 "metadata": {
  "kernelspec": {
   "display_name": "Python 3",
   "language": "python",
   "name": "python3"
  },
  "language_info": {
   "codemirror_mode": {
    "name": "ipython",
    "version": 3
   },
   "file_extension": ".py",
   "mimetype": "text/x-python",
   "name": "python",
   "nbconvert_exporter": "python",
   "pygments_lexer": "ipython3",
   "version": "3.6.3"
  }
 },
 "nbformat": 4,
 "nbformat_minor": 2
}
